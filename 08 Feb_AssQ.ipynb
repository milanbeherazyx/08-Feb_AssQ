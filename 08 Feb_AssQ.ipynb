{
 "cells": [
  {
   "cell_type": "code",
   "execution_count": 1,
   "id": "a046782b-11dd-4c47-8990-2d17735a7431",
   "metadata": {},
   "outputs": [
    {
     "data": {
      "text/plain": [
       "'\\nQ1. What is Abstraction in OOps? Explain with an example.\\n'"
      ]
     },
     "execution_count": 1,
     "metadata": {},
     "output_type": "execute_result"
    }
   ],
   "source": [
    "\"\"\"\n",
    "Q1. What is Abstraction in OOps? Explain with an example.\n",
    "\"\"\""
   ]
  },
  {
   "cell_type": "code",
   "execution_count": 6,
   "id": "95e0f672-a725-4604-ab5d-5f9da50e3222",
   "metadata": {},
   "outputs": [
    {
     "data": {
      "text/plain": [
       "'\\n\\nSuppose we have a class called \"Car\" that has various properties such as color, model, make, and methods such as start, stop, accelerate, and brake. \\nHowever, the implementation details of these methods may vary depending on the type of car, such as a sports car, sedan, or SUV.\\n\\nTo achieve abstraction, we can define an abstract class called \"Vehicle\" that has an abstract method called \"drive\" and a non-abstract method called \"stop.\" \\nThe \"Car\" class can then extend the \"Vehicle\" class and provide an implementation for the \"drive\" method based on its type.\\n\\nIn this way, the user of the \"Car\" class does not need to know the complex implementation details of the \"drive\" method. \\nInstead, they can simply call the method and expect it to work according to the behavior defined by the \"Vehicle\" class.\\n\\n'"
      ]
     },
     "execution_count": 6,
     "metadata": {},
     "output_type": "execute_result"
    }
   ],
   "source": [
    "\"\"\"\n",
    "\n",
    "Abstraction is one of the fundamental concepts of object-oriented programming (OOPs). \n",
    "It refers to the process of hiding complex implementation details while providing a simple and easy-to-use interface for the users.\n",
    "\n",
    "In OOPs, abstraction is achieved through the use of abstract classes and interfaces. \n",
    "An abstract class is a class that cannot be instantiated and is meant to be extended by other classes. \n",
    "It can contain both abstract and non-abstract methods.\n",
    "Abstract methods are those that are declared but not implemented in the abstract class, and they must be implemented by the classes that extend the abstract class.\n",
    "\n",
    "An interface is a collection of abstract methods that define a set of behaviors that a class must implement. \n",
    "Interfaces cannot be instantiated, and the classes that implement them must provide an implementation for all the methods defined in the interface.\n",
    "\n",
    "\"\"\"\n",
    "\n",
    "\"\"\"\n",
    "\n",
    "Suppose we have a class called \"Car\" that has various properties such as color, model, make, and methods such as start, stop, accelerate, and brake. \n",
    "However, the implementation details of these methods may vary depending on the type of car, such as a sports car, sedan, or SUV.\n",
    "\n",
    "To achieve abstraction, we can define an abstract class called \"Vehicle\" that has an abstract method called \"drive\" and a non-abstract method called \"stop.\" \n",
    "The \"Car\" class can then extend the \"Vehicle\" class and provide an implementation for the \"drive\" method based on its type.\n",
    "\n",
    "In this way, the user of the \"Car\" class does not need to know the complex implementation details of the \"drive\" method. \n",
    "Instead, they can simply call the method and expect it to work according to the behavior defined by the \"Vehicle\" class.\n",
    "\n",
    "\"\"\""
   ]
  },
  {
   "cell_type": "code",
   "execution_count": 7,
   "id": "36950bb1-a1d0-4271-ade1-f74f1a5c510e",
   "metadata": {},
   "outputs": [
    {
     "name": "stdout",
     "output_type": "stream",
     "text": [
      "red Honda Civic is driving.\n",
      "Vehicle stopped.\n",
      "blue Tesla Model S is driving.\n",
      "Vehicle stopped.\n"
     ]
    }
   ],
   "source": [
    "from abc import ABC, abstractmethod\n",
    "\n",
    "class Vehicle(ABC):\n",
    "    @abstractmethod\n",
    "    def drive(self):\n",
    "        pass\n",
    "    \n",
    "    def stop(self):\n",
    "        print(\"Vehicle stopped.\")\n",
    "\n",
    "class Car(Vehicle):\n",
    "    def __init__(self, color, model, make):\n",
    "        self.color = color\n",
    "        self.model = model\n",
    "        self.make = make\n",
    "    \n",
    "    def drive(self):\n",
    "        print(f\"{self.color} {self.make} {self.model} is driving.\")\n",
    "    \n",
    "car1 = Car(\"red\", \"Civic\", \"Honda\")\n",
    "car2 = Car(\"blue\", \"Model S\", \"Tesla\")\n",
    "\n",
    "car1.drive()\n",
    "car1.stop()\n",
    "\n",
    "car2.drive()\n",
    "car2.stop()\n"
   ]
  },
  {
   "cell_type": "code",
   "execution_count": 2,
   "id": "229ae151-fb81-4415-b624-18499fae5476",
   "metadata": {},
   "outputs": [
    {
     "data": {
      "text/plain": [
       "'\\nQ2. Differentiate between Abstraction and Encapsulation. Explain with an example.\\n'"
      ]
     },
     "execution_count": 2,
     "metadata": {},
     "output_type": "execute_result"
    }
   ],
   "source": [
    "\"\"\"\n",
    "Q2. Differentiate between Abstraction and Encapsulation. Explain with an example.\n",
    "\"\"\""
   ]
  },
  {
   "cell_type": "code",
   "execution_count": 12,
   "id": "dc14f952-efdd-43c5-a41a-3c21cf342f3d",
   "metadata": {},
   "outputs": [
    {
     "data": {
      "text/plain": [
       "\"\\nAbstraction and encapsulation are two fundamental concepts of object-oriented programming (OOPs) that are often used interchangeably. However, they have distinct differences in their meanings and purposes.\\n\\nAbstraction refers to the process of hiding complex implementation details while providing a simple and easy-to-use interface for the users. Abstraction is achieved through the use of abstract classes and interfaces.\\n\\nEncapsulation, on the other hand, refers to the process of wrapping data and methods into a single unit, i.e., a class, and restricting access to the data from outside the class. Encapsulation is achieved through the use of access modifiers such as private, public, and protected.\\n\\nLet's take an example to differentiate between abstraction and encapsulation:\\n\""
      ]
     },
     "execution_count": 12,
     "metadata": {},
     "output_type": "execute_result"
    }
   ],
   "source": [
    "\"\"\"\n",
    "Abstraction and encapsulation are two fundamental concepts of object-oriented programming (OOPs) that are often used interchangeably. \n",
    "However, they have distinct differences in their meanings and purposes.\n",
    "\n",
    "Abstraction refers to the process of hiding complex implementation details while providing a simple and easy-to-use interface for the users. Abstraction is achieved through the use of abstract classes and interfaces.\n",
    "\n",
    "Encapsulation, on the other hand, refers to the process of wrapping data and methods into a single unit, i.e., a class, and restricting access to the data from outside the class. Encapsulation is achieved through the use of access modifiers such as private, public, and protected.\n",
    "\n",
    "Let's take an example to differentiate between abstraction and encapsulation:\n",
    "\"\"\""
   ]
  },
  {
   "cell_type": "code",
   "execution_count": 13,
   "id": "2088c3ac-dc62-4738-9815-b310e422edb1",
   "metadata": {},
   "outputs": [],
   "source": [
    "class Car:\n",
    "    def __init__(self, color, model, make):\n",
    "        self.color = color\n",
    "        self.model = model\n",
    "        self.make = make\n",
    "    \n",
    "    def start(self):\n",
    "        print(f\"{self.color} {self.make} {self.model} started.\")\n",
    "    \n",
    "    def stop(self):\n",
    "        print(f\"{self.color} {self.make} {self.model} stopped.\")\n",
    "    \n",
    "    def set_color(self, color):\n",
    "        self.color = color\n",
    "    \n",
    "    def get_color(self):\n",
    "        return self.color\n"
   ]
  },
  {
   "cell_type": "code",
   "execution_count": 14,
   "id": "6507139a-4bc1-4f89-84a1-22eb004b4b9e",
   "metadata": {},
   "outputs": [
    {
     "data": {
      "text/plain": [
       "'\\nIn this code, we have defined a \"Car\" class that has properties such as color, model, and make, and methods such as start, stop, set_color, and get_color. \\nThese methods provide access to the properties of the car from outside the class.\\n\\nNow, let\\'s apply abstraction and encapsulation to this code.\\n\\nAbstraction: We can abstract the \"start\" and \"stop\" methods into an abstract class called \"Vehicle\" and \\ndefine an abstract method called \"drive\" that must be implemented by the classes that extend the \"Vehicle\" class. \\nThis way, we can hide the implementation details of the \"drive\" method from the users of the \"Car\" class.\\n'"
      ]
     },
     "execution_count": 14,
     "metadata": {},
     "output_type": "execute_result"
    }
   ],
   "source": [
    "\"\"\"\n",
    "In this code, we have defined a \"Car\" class that has properties such as color, model, and make, and methods such as start, stop, set_color, and get_color. \n",
    "These methods provide access to the properties of the car from outside the class.\n",
    "\n",
    "Now, let's apply abstraction and encapsulation to this code.\n",
    "\n",
    "Abstraction: We can abstract the \"start\" and \"stop\" methods into an abstract class called \"Vehicle\" and \n",
    "define an abstract method called \"drive\" that must be implemented by the classes that extend the \"Vehicle\" class. \n",
    "This way, we can hide the implementation details of the \"drive\" method from the users of the \"Car\" class.\n",
    "\"\"\""
   ]
  },
  {
   "cell_type": "code",
   "execution_count": 15,
   "id": "b6181259-c41f-4b76-8977-b94705d34d87",
   "metadata": {},
   "outputs": [],
   "source": [
    "from abc import ABC, abstractmethod\n",
    "\n",
    "class Vehicle(ABC):\n",
    "    @abstractmethod\n",
    "    def drive(self):\n",
    "        pass\n",
    "    \n",
    "    def stop(self):\n",
    "        print(\"Vehicle stopped.\")\n",
    "\n",
    "class Car(Vehicle):\n",
    "    def __init__(self, color, model, make):\n",
    "        self.color = color\n",
    "        self.model = model\n",
    "        self.make = make\n",
    "    \n",
    "    def drive(self):\n",
    "        print(f\"{self.color} {self.make} {self.model} is driving.\")\n"
   ]
  },
  {
   "cell_type": "code",
   "execution_count": 16,
   "id": "33537c5c-f866-40c5-9a35-7d8940ffa604",
   "metadata": {},
   "outputs": [
    {
     "data": {
      "text/plain": [
       "'\\nEncapsulation: We can encapsulate the properties of the car by making them private and providing access to them through getter and setter methods.\\n'"
      ]
     },
     "execution_count": 16,
     "metadata": {},
     "output_type": "execute_result"
    }
   ],
   "source": [
    "\"\"\"\n",
    "Encapsulation: We can encapsulate the properties of the car by making them private and providing access to them through getter and setter methods.\n",
    "\"\"\""
   ]
  },
  {
   "cell_type": "code",
   "execution_count": 17,
   "id": "a55230a4-61ae-4247-8656-7eb5d251363d",
   "metadata": {},
   "outputs": [],
   "source": [
    "class Car:\n",
    "    def __init__(self, color, model, make):\n",
    "        self.__color = color\n",
    "        self.__model = model\n",
    "        self.__make = make\n",
    "    \n",
    "    def start(self):\n",
    "        print(f\"{self.__color} {self.__make} {self.__model} started.\")\n",
    "    \n",
    "    def stop(self):\n",
    "        print(f\"{self.__color} {self.__make} {self.__model} stopped.\")\n",
    "    \n",
    "    def set_color(self, color):\n",
    "        self.__color = color\n",
    "    \n",
    "    def get_color(self):\n",
    "        return self.__color\n"
   ]
  },
  {
   "cell_type": "code",
   "execution_count": 18,
   "id": "3360225c-c437-4574-9fba-34ec77ed073b",
   "metadata": {},
   "outputs": [
    {
     "data": {
      "text/plain": [
       "'\\nIn this updated code, the properties color, model, and make are now private and can only be accessed through the getter and setter methods. \\nThis way, we have encapsulated the data of the car into a single unit, i.e., the \"Car\" class, and restricted access to the data from outside the class.\\n\\nIn summary, abstraction and encapsulation are two distinct concepts in OOPs that serve different purposes. \\nAbstraction hides the implementation details from the users, while encapsulation restricts access to the data from outside the class. \\nBoth concepts are important for creating maintainable and scalable code.\\n'"
      ]
     },
     "execution_count": 18,
     "metadata": {},
     "output_type": "execute_result"
    }
   ],
   "source": [
    "\"\"\"\n",
    "In this updated code, the properties color, model, and make are now private and can only be accessed through the getter and setter methods. \n",
    "This way, we have encapsulated the data of the car into a single unit, i.e., the \"Car\" class, and restricted access to the data from outside the class.\n",
    "\n",
    "In summary, abstraction and encapsulation are two distinct concepts in OOPs that serve different purposes. \n",
    "Abstraction hides the implementation details from the users, while encapsulation restricts access to the data from outside the class. \n",
    "Both concepts are important for creating maintainable and scalable code.\n",
    "\"\"\""
   ]
  },
  {
   "cell_type": "code",
   "execution_count": 19,
   "id": "170ed2d9-a0c4-479e-906b-948dadf29aaa",
   "metadata": {},
   "outputs": [
    {
     "data": {
      "text/plain": [
       "'\\nQ3. What is abc module in python? Why is it used?\\n'"
      ]
     },
     "execution_count": 19,
     "metadata": {},
     "output_type": "execute_result"
    }
   ],
   "source": [
    "\"\"\"\n",
    "Q3. What is abc module in python? Why is it used?\n",
    "\"\"\""
   ]
  },
  {
   "cell_type": "code",
   "execution_count": 1,
   "id": "5ab5287b-50d7-457a-ac1d-6c8d04412a8e",
   "metadata": {},
   "outputs": [
    {
     "data": {
      "text/plain": [
       "\"\\nThe abc (Abstract Base Classes) module in Python is a built-in module that provides a way to define abstract base classes. Abstract base classes are classes that cannot be instantiated and are meant to be inherited from by other classes.\\n\\nThe abc module is used for implementing the concept of abstraction in Python. By defining abstract base classes, we can define a common interface that the inheriting classes must implement. This helps to enforce a certain structure in the code and promotes code reusability.\\n\\nHere's an example that demonstrates the use of the abc module in Python\\n\""
      ]
     },
     "execution_count": 1,
     "metadata": {},
     "output_type": "execute_result"
    }
   ],
   "source": [
    "\"\"\"\n",
    "The abc (Abstract Base Classes) module in Python is a built-in module that provides a way to define abstract base classes. Abstract base classes are classes that cannot be instantiated and are meant to be inherited from by other classes.\n",
    "\n",
    "The abc module is used for implementing the concept of abstraction in Python. By defining abstract base classes, we can define a common interface that the inheriting classes must implement. This helps to enforce a certain structure in the code and promotes code reusability.\n",
    "\n",
    "Here's an example that demonstrates the use of the abc module in Python\n",
    "\"\"\""
   ]
  },
  {
   "cell_type": "code",
   "execution_count": 2,
   "id": "0329c5a5-8433-4153-a190-d9986c515993",
   "metadata": {},
   "outputs": [],
   "source": [
    "from abc import ABC, abstractmethod\n",
    "\n",
    "class Vehicle(ABC):\n",
    "    @abstractmethod\n",
    "    def start(self):\n",
    "        pass\n",
    "    \n",
    "    @abstractmethod\n",
    "    def stop(self):\n",
    "        pass\n",
    "    \n",
    "class Car(Vehicle):\n",
    "    def start(self):\n",
    "        print(\"Car started.\")\n",
    "    \n",
    "    def stop(self):\n",
    "        print(\"Car stopped.\")\n",
    "    \n",
    "class Bike(Vehicle):\n",
    "    def start(self):\n",
    "        print(\"Bike started.\")\n",
    "    \n",
    "    def stop(self):\n",
    "        print(\"Bike stopped.\")\n"
   ]
  },
  {
   "cell_type": "code",
   "execution_count": 3,
   "id": "e7185bfc-d232-4e30-9e0e-dc1837b7292d",
   "metadata": {},
   "outputs": [
    {
     "data": {
      "text/plain": [
       "'\\nIn this example, we have defined an abstract base class called \"Vehicle\" that has two abstract methods, \"start\" and \"stop.\\n\" The \"Car\" and \"Bike\" classes inherit from the \"Vehicle\" class and provide their own implementation of the \"start\" and \"stop\" methods.\\n\\nNote that we cannot create an instance of the \"Vehicle\" class directly, as it is an abstract base class. \\nWe can only create instances of the inheriting classes, such as \"Car\" and \"Bike.\"\\n\\nThis way, by using the abc module in Python, we can define a common interface that the inheriting classes must implement, \\nwhich promotes code reusability and helps in enforcing a certain structure in the code.\\n'"
      ]
     },
     "execution_count": 3,
     "metadata": {},
     "output_type": "execute_result"
    }
   ],
   "source": [
    "\"\"\"\n",
    "In this example, we have defined an abstract base class called \"Vehicle\" that has two abstract methods, \"start\" and \"stop.\n",
    "\" The \"Car\" and \"Bike\" classes inherit from the \"Vehicle\" class and provide their own implementation of the \"start\" and \"stop\" methods.\n",
    "\n",
    "Note that we cannot create an instance of the \"Vehicle\" class directly, as it is an abstract base class. \n",
    "We can only create instances of the inheriting classes, such as \"Car\" and \"Bike.\"\n",
    "\n",
    "This way, by using the abc module in Python, we can define a common interface that the inheriting classes must implement, \n",
    "which promotes code reusability and helps in enforcing a certain structure in the code.\n",
    "\"\"\"\n"
   ]
  },
  {
   "cell_type": "code",
   "execution_count": 4,
   "id": "903e8353-0326-4b01-9525-f662ce1ae9d3",
   "metadata": {},
   "outputs": [
    {
     "data": {
      "text/plain": [
       "'\\nQ4. How can we achieve data abstraction?\\n'"
      ]
     },
     "execution_count": 4,
     "metadata": {},
     "output_type": "execute_result"
    }
   ],
   "source": [
    "\"\"\"\n",
    "Q4. How can we achieve data abstraction?\n",
    "\"\"\""
   ]
  },
  {
   "cell_type": "code",
   "execution_count": 6,
   "id": "d2deb772-8300-462f-abeb-34775bbf420a",
   "metadata": {},
   "outputs": [
    {
     "data": {
      "text/plain": [
       "'\\nData abstraction is the process of reducing complex data sets to a simplified representation. \\nIt helps to manage the complexity of data and allows us to focus on the essential features of the data. \\nHere are some ways to achieve data abstraction:\\n\\n    1. Encapsulation: Encapsulation is the process of hiding the implementation details of a data object from its users. \\n    By encapsulating data, we can ensure that users only interact with the data object through its interface, without knowing how the object is implemented. \\n    This makes it easier to modify the implementation of the object without affecting its users.\\n\\n    2. Modularity: Modularity is the process of breaking down a complex data system into smaller, more manageable components. \\n    Each component can then be designed, developed, and tested separately, making it easier to maintain and modify the system as a whole.\\n\\n    3. Data modeling: Data modeling is the process of defining the data requirements of a system and the relationships between different data entities. \\n    By creating a data model, we can create a simplified representation of the data, which can be used to develop software applications that interact with the data.\\n\\n    4.Abstraction layers: Abstraction layers provide a way to separate the complexity of data systems into layers of increasing abstraction. \\n    Each layer provides a simplified interface to the layer below it, making it easier to understand and interact with the system. \\n    Abstraction layers also provide a way to add new functionality to the system without affecting the layers above it.\\n\\n    5. Object-oriented programming: Object-oriented programming is a programming paradigm that provides a way to create abstract data types. \\n    By encapsulating data and functionality within objects, we can create reusable and modular code that is easier to maintain and modify.\\n\\nOverall, achieving data abstraction involves creating simplified representations of complex data systems, \\nwhich can be used to develop software applications that interact with the data.\\n\\n'"
      ]
     },
     "execution_count": 6,
     "metadata": {},
     "output_type": "execute_result"
    }
   ],
   "source": [
    "\"\"\"\n",
    "Data abstraction is the process of reducing complex data sets to a simplified representation. \n",
    "It helps to manage the complexity of data and allows us to focus on the essential features of the data. \n",
    "Here are some ways to achieve data abstraction:\n",
    "\n",
    "    1. Encapsulation: Encapsulation is the process of hiding the implementation details of a data object from its users. \n",
    "    By encapsulating data, we can ensure that users only interact with the data object through its interface, without knowing how the object is implemented. \n",
    "    This makes it easier to modify the implementation of the object without affecting its users.\n",
    "\n",
    "    2. Modularity: Modularity is the process of breaking down a complex data system into smaller, more manageable components. \n",
    "    Each component can then be designed, developed, and tested separately, making it easier to maintain and modify the system as a whole.\n",
    "\n",
    "    3. Data modeling: Data modeling is the process of defining the data requirements of a system and the relationships between different data entities. \n",
    "    By creating a data model, we can create a simplified representation of the data, which can be used to develop software applications that interact with the data.\n",
    "\n",
    "    4.Abstraction layers: Abstraction layers provide a way to separate the complexity of data systems into layers of increasing abstraction. \n",
    "    Each layer provides a simplified interface to the layer below it, making it easier to understand and interact with the system. \n",
    "    Abstraction layers also provide a way to add new functionality to the system without affecting the layers above it.\n",
    "\n",
    "    5. Object-oriented programming: Object-oriented programming is a programming paradigm that provides a way to create abstract data types. \n",
    "    By encapsulating data and functionality within objects, we can create reusable and modular code that is easier to maintain and modify.\n",
    "\n",
    "Overall, achieving data abstraction involves creating simplified representations of complex data systems, \n",
    "which can be used to develop software applications that interact with the data.\n",
    "\n",
    "\"\"\""
   ]
  },
  {
   "cell_type": "code",
   "execution_count": 7,
   "id": "17bd4a55-98ce-4434-91f4-6719b07e1137",
   "metadata": {},
   "outputs": [
    {
     "data": {
      "text/plain": [
       "'\\nQ5. Can we create an instance of an abstract class? Explain your answer.\\n'"
      ]
     },
     "execution_count": 7,
     "metadata": {},
     "output_type": "execute_result"
    }
   ],
   "source": [
    "\"\"\"\n",
    "Q5. Can we create an instance of an abstract class? Explain your answer.\n",
    "\"\"\""
   ]
  },
  {
   "cell_type": "code",
   "execution_count": null,
   "id": "47a2710d-60df-4ef0-8f8c-f0541606035e",
   "metadata": {},
   "outputs": [],
   "source": [
    "\"\"\"\n",
    "we can create an abstract class using the built-in abc (Abstract Base Classes) module. \n",
    "An abstract class is a class that cannot be instantiated, and its purpose is to serve as a base class for other classes that can be instantiated.\n",
    "\n",
    "Attempting to create an instance of an abstract class in Python will result in a TypeError being raised, indicating that the abstract class cannot be instantiated. "
   ]
  }
 ],
 "metadata": {
  "kernelspec": {
   "display_name": "Python 3 (ipykernel)",
   "language": "python",
   "name": "python3"
  },
  "language_info": {
   "codemirror_mode": {
    "name": "ipython",
    "version": 3
   },
   "file_extension": ".py",
   "mimetype": "text/x-python",
   "name": "python",
   "nbconvert_exporter": "python",
   "pygments_lexer": "ipython3",
   "version": "3.10.8"
  }
 },
 "nbformat": 4,
 "nbformat_minor": 5
}
